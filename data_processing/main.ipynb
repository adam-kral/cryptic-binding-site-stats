{
 "cells": [
  {
   "cell_type": "markdown",
   "source": [
    "Define these constants:"
   ],
   "metadata": {
    "collapsed": false
   }
  },
  {
   "cell_type": "code",
   "execution_count": 34,
   "outputs": [],
   "source": [
    "LOAD_FILES_CAP = None  # for testing load only some files (loading slow)\n",
    "# LOAD_FILES_CAP = None\n",
    "output_root = '/Users/adam/pschool/bakalarka/cryptic_output/output'  # unzipped tree with json outputs"
   ],
   "metadata": {
    "collapsed": false,
    "pycharm": {
     "name": "#%%\n"
    }
   }
  },
  {
   "cell_type": "code",
   "execution_count": 35,
   "outputs": [],
   "source": [
    "import json\n",
    "from pathlib import Path\n",
    "from typing import Iterable\n",
    "\n",
    "import pandas as pd\n",
    "\n",
    "\n",
    "def load_df(json_files: Iterable[Path]):\n",
    "    super_df = pd.DataFrame()\n",
    "\n",
    "    json_files = list(json_files)\n",
    "    if LOAD_FILES_CAP:\n",
    "        json_files = list(json_files)[:LOAD_FILES_CAP]  # testing hack\n",
    "\n",
    "    total_files = len(json_files)\n",
    "\n",
    "    for i, json_file in enumerate(json_files):\n",
    "        with json_file.open() as f:\n",
    "            json_output = json.load(f)\n",
    "\n",
    "        df = pd.json_normalize(json_output, 'binding_sites', ['apo_pdb_code', 'holo_pdb_code', 'apo_chain_id', 'holo_chain_id'])\n",
    "        super_df = pd.concat([super_df, df], ignore_index=True)\n",
    "\n",
    "        if i % 10 == 0:\n",
    "                print(f'\\rloading... {i} / {total_files} done', end='')\n",
    "\n",
    "    return super_df"
   ],
   "metadata": {
    "collapsed": false,
    "pycharm": {
     "name": "#%%\n"
    }
   }
  },
  {
   "cell_type": "code",
   "execution_count": null,
   "outputs": [
    {
     "name": "stdout",
     "output_type": "stream",
     "text": [
      "loading... 1060 / 2542 done"
     ]
    }
   ],
   "source": [
    "files = Path(output_root).rglob('*.json')\n",
    "\n",
    "df = load_df(files)"
   ],
   "metadata": {
    "collapsed": false,
    "pycharm": {
     "name": "#%%\n",
     "is_executing": true
    }
   }
  },
  {
   "cell_type": "code",
   "execution_count": null,
   "outputs": [],
   "source": [
    "# je klidne vetsi nez pocet paru, protoze je radek za kazdy ligand, nikoliv pár...\n",
    "df"
   ],
   "metadata": {
    "collapsed": false,
    "pycharm": {
     "name": "#%%\n",
     "is_executing": true
    }
   }
  },
  {
   "cell_type": "code",
   "execution_count": null,
   "outputs": [],
   "source": [
    "# todo histogram podílu blocked_BS_atoms / BS_atoms\n",
    "\n",
    "df['blocked_bs_atoms__ratio'] = df['analyses.method4.apo_bs_blocked_atoms__by_blocking_atoms'] / df['atom_count_statistic.binding_atoms_observed_in_apo']\n",
    "\n",
    "df['bs_residue_count'] = df.residue_ids.apply(len)\n",
    "\n",
    "df['blocked_bs_residues__ratio'] = df['analyses.method4.apo_bs_blocked_residues__by_blocking_atoms'] / df.bs_residue_count\n"
   ],
   "metadata": {
    "collapsed": false,
    "pycharm": {
     "name": "#%%\n",
     "is_executing": true
    }
   }
  },
  {
   "cell_type": "code",
   "execution_count": null,
   "outputs": [],
   "source": [
    "df"
   ],
   "metadata": {
    "collapsed": false,
    "pycharm": {
     "name": "#%%\n",
     "is_executing": true
    }
   }
  },
  {
   "cell_type": "code",
   "execution_count": null,
   "outputs": [],
   "source": [
    "import seaborn as sns\n",
    "# wargs = {'cumulative': True}\n",
    "# sns.distplot(x, hist_kws=kwargs, kde_kws=kwargs)\n",
    "\n",
    "sns.ecdfplot(df, x='blocked_bs_atoms__ratio')"
   ],
   "metadata": {
    "collapsed": false,
    "pycharm": {
     "name": "#%%\n",
     "is_executing": true
    }
   }
  },
  {
   "cell_type": "code",
   "execution_count": null,
   "outputs": [],
   "source": [
    "sns.ecdfplot(df, x='blocked_bs_residues__ratio')"
   ],
   "metadata": {
    "collapsed": false,
    "pycharm": {
     "name": "#%%\n",
     "is_executing": true
    }
   }
  },
  {
   "cell_type": "markdown",
   "source": [
    "todo agregace (binding sites) podle párů, a pak podle apo struktur asi (kolik apo struktur má cryptic binding sites)"
   ],
   "metadata": {
    "collapsed": false
   }
  }
 ],
 "metadata": {
  "kernelspec": {
   "display_name": "Python 3",
   "language": "python",
   "name": "python3"
  },
  "language_info": {
   "codemirror_mode": {
    "name": "ipython",
    "version": 2
   },
   "file_extension": ".py",
   "mimetype": "text/x-python",
   "name": "python",
   "nbconvert_exporter": "python",
   "pygments_lexer": "ipython2",
   "version": "2.7.6"
  }
 },
 "nbformat": 4,
 "nbformat_minor": 0
}